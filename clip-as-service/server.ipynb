{
 "cells": [
  {
   "cell_type": "markdown",
   "id": "bc3a3208-ba0b-4bbc-8422-eb751b306566",
   "metadata": {},
   "source": [
    "# CLIP-as-service: Server"
   ]
  },
  {
   "cell_type": "code",
   "execution_count": null,
   "id": "2a36934e-f99b-4a34-a67c-d646d300fdbb",
   "metadata": {},
   "outputs": [],
   "source": [
    "!pip install clip-server"
   ]
  },
  {
   "cell_type": "code",
   "execution_count": null,
   "id": "405908f0-a872-4f9f-b22a-c2c5567a521c",
   "metadata": {},
   "outputs": [],
   "source": [
    "!python -m clip_server"
   ]
  }
 ],
 "metadata": {
  "kernelspec": {
   "display_name": "Python 3",
   "language": "python",
   "name": "python3"
  },
  "language_info": {
   "codemirror_mode": {
    "name": "ipython",
    "version": 3
   },
   "file_extension": ".py",
   "mimetype": "text/x-python",
   "name": "python",
   "nbconvert_exporter": "python",
   "pygments_lexer": "ipython3",
   "version": "3.9.9"
  }
 },
 "nbformat": 4,
 "nbformat_minor": 5
}
