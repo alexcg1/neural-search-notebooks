{
 "cells": [
  {
   "cell_type": "markdown",
   "id": "4ce7c626-beed-46fd-bbeb-bfa2bd11ab51",
   "metadata": {},
   "source": [
    "# DocArray with SQLite Docstore\n",
    "\n",
    "Documents inside a DocumentArray can live in a document store instead of in memory, e.g. in SQLite, Redis. Comparing to the in-memory storage, the benefit of using an external store is often about longer persistence and faster retrieval.\n",
    "\n",
    "The look-and-feel of a DocumentArray with external store is almost the same as a regular in-memory DocumentArray. This allows users to easily switch between backends under the same DocArray idiom.\n",
    "\n",
    "[Read more in the docs](https://docarray.jina.ai/advanced/document-store/?highlight=sqlite)"
   ]
  },
  {
   "cell_type": "markdown",
   "id": "7997738a-cc04-4054-be4c-fb6b4ea577ff",
   "metadata": {},
   "source": [
    "## Let's store some Documents in SQLite"
   ]
  },
  {
   "cell_type": "code",
   "execution_count": 1,
   "id": "dff8d1e5-fc84-49f3-aca2-55e7c19818be",
   "metadata": {},
   "outputs": [],
   "source": [
    "from docarray import Document, DocumentArray"
   ]
  },
  {
   "cell_type": "code",
   "execution_count": 2,
   "id": "cd313c87-35a2-4dcb-9fe1-8c63c1ffb382",
   "metadata": {},
   "outputs": [],
   "source": [
    "# Set up DocumentArray in SQLite\n",
    "db_name = \"example.db\"\n",
    "table_name = \"notebook_test\"\n",
    "\n",
    "da = DocumentArray(storage='sqlite', config={'connection': db_name, 'table_name': table_name})"
   ]
  },
  {
   "cell_type": "code",
   "execution_count": 2,
   "id": "c07d6b54-1701-4a9b-b93b-a9b5a782b6d5",
   "metadata": {},
   "outputs": [
    {
     "data": {
      "text/html": [
       "<pre style=\"white-space:pre;overflow-x:auto;line-height:normal;font-family:Menlo,'DejaVu Sans Mono',consolas,'Courier New',monospace\"><span style=\"font-style: italic\">                  Documents Summary                   </span>\n",
       "                                                      \n",
       "  Length                 3                            \n",
       "  Homogenous Documents   True                         \n",
       "  Common Attributes      ('id', 'mime_type', 'text')  \n",
       "                                                      \n",
       "<span style=\"font-style: italic\">                     Attributes Summary                     </span>\n",
       "                                                            \n",
       " <span style=\"font-weight: bold\"> Attribute </span> <span style=\"font-weight: bold\"> Data type </span> <span style=\"font-weight: bold\"> #Unique values </span> <span style=\"font-weight: bold\"> Has empty value </span> \n",
       " ────────────────────────────────────────────────────────── \n",
       "  id          ('str',)    3                False            \n",
       "  mime_type   ('str',)    1                False            \n",
       "  text        ('str',)    3                False            \n",
       "                                                            \n",
       "<span style=\"font-style: italic\">             Storage Summary              </span>\n",
       "                                          \n",
       "  Backend                  SQLite         \n",
       "  Connection               example.db     \n",
       "  Table Name               notebook_test  \n",
       "  Serialization Protocol                  \n",
       "                                          \n",
       "</pre>\n"
      ],
      "text/plain": [
       "\u001b[3m                  Documents Summary                   \u001b[0m\n",
       "                                                      \n",
       "  Length                 3                            \n",
       "  Homogenous Documents   True                         \n",
       "  Common Attributes      ('id', 'mime_type', 'text')  \n",
       "                                                      \n",
       "\u001b[3m                     Attributes Summary                     \u001b[0m\n",
       "                                                            \n",
       " \u001b[1m \u001b[0m\u001b[1mAttribute\u001b[0m\u001b[1m \u001b[0m \u001b[1m \u001b[0m\u001b[1mData type\u001b[0m\u001b[1m \u001b[0m \u001b[1m \u001b[0m\u001b[1m#Unique values\u001b[0m\u001b[1m \u001b[0m \u001b[1m \u001b[0m\u001b[1mHas empty value\u001b[0m\u001b[1m \u001b[0m \n",
       " ────────────────────────────────────────────────────────── \n",
       "  id          ('str',)    3                False            \n",
       "  mime_type   ('str',)    1                False            \n",
       "  text        ('str',)    3                False            \n",
       "                                                            \n",
       "\u001b[3m             Storage Summary              \u001b[0m\n",
       "                                          \n",
       "  Backend                  SQLite         \n",
       "  Connection               example.db     \n",
       "  Table Name               notebook_test  \n",
       "  Serialization Protocol                  \n",
       "                                          \n"
      ]
     },
     "metadata": {},
     "output_type": "display_data"
    }
   ],
   "source": [
    "# Add Documents\n",
    "da.append(Document(text=\"hello world\"))\n",
    "da.append(Document(text=\"howdy planet\"))\n",
    "\n",
    "da.summary()"
   ]
  },
  {
   "cell_type": "markdown",
   "id": "88b01681-f6e7-459f-8568-1e7583394c50",
   "metadata": {},
   "source": [
    "## Let's see if it worked"
   ]
  },
  {
   "cell_type": "code",
   "execution_count": 3,
   "id": "a6abcfb4-f1f5-410d-8050-1f11045612f4",
   "metadata": {},
   "outputs": [],
   "source": [
    "import sqlite3\n",
    "conn = sqlite3.connect(db_name)"
   ]
  },
  {
   "cell_type": "code",
   "execution_count": 4,
   "id": "7cc3a6cd-77f2-4c1f-8273-6778cfa32eb1",
   "metadata": {},
   "outputs": [
    {
     "name": "stdout",
     "output_type": "stream",
     "text": [
      "[('metadata',), ('notebook_test',)]\n"
     ]
    }
   ],
   "source": [
    "# See tables\n",
    "sql_query = \"\"\"SELECT name FROM sqlite_master  \n",
    "  WHERE type='table';\"\"\"\n",
    "\n",
    "cursor = conn.cursor()\n",
    "\n",
    "cursor.execute(sql_query)\n",
    "\n",
    "print(cursor.fetchall())"
   ]
  },
  {
   "cell_type": "code",
   "execution_count": 8,
   "id": "dbc88211-d6f0-4060-9333-c9d8682c0999",
   "metadata": {},
   "outputs": [
    {
     "name": "stdout",
     "output_type": "stream",
     "text": [
      "{'doc_id': 'f85238f09ae911eca563dc1ba1a7eaa4',\n",
      " 'item_order': 0,\n",
      " 'serialized_value': b'\\x80\\x03cdocarray.document\\nDocument\\nq\\x00)\\x81q\\x01'\n",
      "                     b'}q\\x02X\\x05\\x00\\x00\\x00_dataq\\x03cdocarray.document.da'\n",
      "                     b'ta\\nDocumentData\\nq\\x04)\\x81q\\x05}q\\x06(X\\x0e'\n",
      "                     b'\\x00\\x00\\x00_reference_docq\\x07h\\x01X\\x02\\x00\\x00\\x00id'\n",
      "                     b'q\\x08X \\x00\\x00\\x00f85238f09ae911eca563dc1ba1a7eaa4q'\n",
      "                     b'\\tX\\t\\x00\\x00\\x00parent_idq\\nNX\\x0b\\x00\\x00\\x00granulari'\n",
      "                     b'tyq\\x0bNX\\t\\x00\\x00\\x00adjacencyq\\x0cNX\\x04\\x00\\x00\\x00b'\n",
      "                     b'lobq\\rNX\\x06\\x00\\x00\\x00tensorq\\x0eNX\\t\\x00\\x00\\x00mim'\n",
      "                     b'e_typeq\\x0fX\\n\\x00\\x00\\x00text/plainq\\x10X\\x04\\x00'\n",
      "                     b'\\x00\\x00textq\\x11X\\x0b\\x00\\x00\\x00hello worldq\\x12X\\x07'\n",
      "                     b'\\x00\\x00\\x00contentq\\x13NX\\x06\\x00\\x00\\x00weightq\\x14NX'\n",
      "                     b'\\x03\\x00\\x00\\x00uriq\\x15NX\\x04\\x00\\x00\\x00tagsq'\n",
      "                     b'\\x16NX\\x06\\x00\\x00\\x00offsetq\\x17NX\\x08\\x00\\x00\\x00loc'\n",
      "                     b'ationq\\x18NX\\t\\x00\\x00\\x00embeddingq\\x19NX\\x08\\x00'\n",
      "                     b'\\x00\\x00modalityq\\x1aNX\\x0b\\x00\\x00\\x00evaluationsq\\x1bN'\n",
      "                     b'X\\x06\\x00\\x00\\x00scoresq\\x1cNX\\x06\\x00\\x00\\x00chunk'\n",
      "                     b'sq\\x1dNX\\x07\\x00\\x00\\x00matchesq\\x1eNubsb.'}\n",
      "{'doc_id': 'f85245169ae911eca563dc1ba1a7eaa4',\n",
      " 'item_order': 1,\n",
      " 'serialized_value': b'\\x80\\x03cdocarray.document\\nDocument\\nq\\x00)\\x81q\\x01'\n",
      "                     b'}q\\x02X\\x05\\x00\\x00\\x00_dataq\\x03cdocarray.document.da'\n",
      "                     b'ta\\nDocumentData\\nq\\x04)\\x81q\\x05}q\\x06(X\\x0e'\n",
      "                     b'\\x00\\x00\\x00_reference_docq\\x07h\\x01X\\x02\\x00\\x00\\x00id'\n",
      "                     b'q\\x08X \\x00\\x00\\x00f85245169ae911eca563dc1ba1a7eaa4q'\n",
      "                     b'\\tX\\t\\x00\\x00\\x00parent_idq\\nNX\\x0b\\x00\\x00\\x00granulari'\n",
      "                     b'tyq\\x0bNX\\t\\x00\\x00\\x00adjacencyq\\x0cNX\\x04\\x00\\x00\\x00b'\n",
      "                     b'lobq\\rNX\\x06\\x00\\x00\\x00tensorq\\x0eNX\\t\\x00\\x00\\x00mim'\n",
      "                     b'e_typeq\\x0fX\\n\\x00\\x00\\x00text/plainq\\x10X\\x04\\x00'\n",
      "                     b'\\x00\\x00textq\\x11X\\x0c\\x00\\x00\\x00howdy planetq\\x12X'\n",
      "                     b'\\x07\\x00\\x00\\x00contentq\\x13NX\\x06\\x00\\x00\\x00weigh'\n",
      "                     b'tq\\x14NX\\x03\\x00\\x00\\x00uriq\\x15NX\\x04\\x00\\x00\\x00tags'\n",
      "                     b'q\\x16NX\\x06\\x00\\x00\\x00offsetq\\x17NX\\x08\\x00\\x00\\x00lo'\n",
      "                     b'cationq\\x18NX\\t\\x00\\x00\\x00embeddingq\\x19NX\\x08'\n",
      "                     b'\\x00\\x00\\x00modalityq\\x1aNX\\x0b\\x00\\x00\\x00evaluatio'\n",
      "                     b'nsq\\x1bNX\\x06\\x00\\x00\\x00scoresq\\x1cNX\\x06\\x00\\x00\\x00'\n",
      "                     b'chunksq\\x1dNX\\x07\\x00\\x00\\x00matchesq\\x1eNubsb.'}\n",
      "{'doc_id': 'f852502e9ae911eca563dc1ba1a7eaa4',\n",
      " 'item_order': 2,\n",
      " 'serialized_value': b'\\x80\\x03cdocarray.document\\nDocument\\nq\\x00)\\x81q\\x01'\n",
      "                     b'}q\\x02X\\x05\\x00\\x00\\x00_dataq\\x03cdocarray.document.da'\n",
      "                     b'ta\\nDocumentData\\nq\\x04)\\x81q\\x05}q\\x06(X\\x0e'\n",
      "                     b'\\x00\\x00\\x00_reference_docq\\x07h\\x01X\\x02\\x00\\x00\\x00id'\n",
      "                     b'q\\x08X \\x00\\x00\\x00f852502e9ae911eca563dc1ba1a7eaa4q'\n",
      "                     b'\\tX\\t\\x00\\x00\\x00parent_idq\\nNX\\x0b\\x00\\x00\\x00granulari'\n",
      "                     b'tyq\\x0bNX\\t\\x00\\x00\\x00adjacencyq\\x0cNX\\x04\\x00\\x00\\x00b'\n",
      "                     b'lobq\\rNX\\x06\\x00\\x00\\x00tensorq\\x0eNX\\t\\x00\\x00\\x00mim'\n",
      "                     b'e_typeq\\x0fX\\n\\x00\\x00\\x00text/plainq\\x10X\\x04\\x00'\n",
      "                     b'\\x00\\x00textq\\x11X\\t\\x00\\x00\\x00sup globeq\\x12'\n",
      "                     b'X\\x07\\x00\\x00\\x00contentq\\x13NX\\x06\\x00\\x00\\x00weig'\n",
      "                     b'htq\\x14NX\\x03\\x00\\x00\\x00uriq\\x15NX\\x04\\x00\\x00\\x00tag'\n",
      "                     b'sq\\x16NX\\x06\\x00\\x00\\x00offsetq\\x17NX\\x08\\x00\\x00\\x00l'\n",
      "                     b'ocationq\\x18NX\\t\\x00\\x00\\x00embeddingq\\x19NX'\n",
      "                     b'\\x08\\x00\\x00\\x00modalityq\\x1aNX\\x0b\\x00\\x00\\x00evaluati'\n",
      "                     b'onsq\\x1bNX\\x06\\x00\\x00\\x00scoresq\\x1cNX\\x06\\x00\\x00'\n",
      "                     b'\\x00chunksq\\x1dNX\\x07\\x00\\x00\\x00matchesq\\x1eNubsb.'}\n"
     ]
    }
   ],
   "source": [
    "from pprint import pprint # Nicer formatting of printed results\n",
    "\n",
    "# Get records from table\n",
    "conn.row_factory = sqlite3.Row\n",
    "\n",
    "cursor = conn.cursor()\n",
    "cursor.execute(f'SELECT * FROM {table_name}')\n",
    "\n",
    "for row in cursor.fetchall():\n",
    "     # can convert to dict if you want:\n",
    "     pprint(dict(row))"
   ]
  },
  {
   "cell_type": "markdown",
   "id": "8127a3b5-255b-4b4c-a2a1-30e0e1bedcd2",
   "metadata": {},
   "source": [
    "## Let's add one more Document for good measure"
   ]
  },
  {
   "cell_type": "code",
   "execution_count": 9,
   "id": "05041d89-9389-4f90-a94f-ec04956d6781",
   "metadata": {},
   "outputs": [],
   "source": [
    "da.append(Document(text=\"sup globe\"))"
   ]
  },
  {
   "cell_type": "code",
   "execution_count": 10,
   "id": "e4619ef6-be67-4801-96ac-57392bae7b0c",
   "metadata": {},
   "outputs": [
    {
     "name": "stdout",
     "output_type": "stream",
     "text": [
      "{'doc_id': 'f85238f09ae911eca563dc1ba1a7eaa4',\n",
      " 'item_order': 0,\n",
      " 'serialized_value': b'\\x80\\x03cdocarray.document\\nDocument\\nq\\x00)\\x81q\\x01'\n",
      "                     b'}q\\x02X\\x05\\x00\\x00\\x00_dataq\\x03cdocarray.document.da'\n",
      "                     b'ta\\nDocumentData\\nq\\x04)\\x81q\\x05}q\\x06(X\\x0e'\n",
      "                     b'\\x00\\x00\\x00_reference_docq\\x07h\\x01X\\x02\\x00\\x00\\x00id'\n",
      "                     b'q\\x08X \\x00\\x00\\x00f85238f09ae911eca563dc1ba1a7eaa4q'\n",
      "                     b'\\tX\\t\\x00\\x00\\x00parent_idq\\nNX\\x0b\\x00\\x00\\x00granulari'\n",
      "                     b'tyq\\x0bNX\\t\\x00\\x00\\x00adjacencyq\\x0cNX\\x04\\x00\\x00\\x00b'\n",
      "                     b'lobq\\rNX\\x06\\x00\\x00\\x00tensorq\\x0eNX\\t\\x00\\x00\\x00mim'\n",
      "                     b'e_typeq\\x0fX\\n\\x00\\x00\\x00text/plainq\\x10X\\x04\\x00'\n",
      "                     b'\\x00\\x00textq\\x11X\\x0b\\x00\\x00\\x00hello worldq\\x12X\\x07'\n",
      "                     b'\\x00\\x00\\x00contentq\\x13NX\\x06\\x00\\x00\\x00weightq\\x14NX'\n",
      "                     b'\\x03\\x00\\x00\\x00uriq\\x15NX\\x04\\x00\\x00\\x00tagsq'\n",
      "                     b'\\x16NX\\x06\\x00\\x00\\x00offsetq\\x17NX\\x08\\x00\\x00\\x00loc'\n",
      "                     b'ationq\\x18NX\\t\\x00\\x00\\x00embeddingq\\x19NX\\x08\\x00'\n",
      "                     b'\\x00\\x00modalityq\\x1aNX\\x0b\\x00\\x00\\x00evaluationsq\\x1bN'\n",
      "                     b'X\\x06\\x00\\x00\\x00scoresq\\x1cNX\\x06\\x00\\x00\\x00chunk'\n",
      "                     b'sq\\x1dNX\\x07\\x00\\x00\\x00matchesq\\x1eNubsb.'}\n",
      "{'doc_id': 'f85245169ae911eca563dc1ba1a7eaa4',\n",
      " 'item_order': 1,\n",
      " 'serialized_value': b'\\x80\\x03cdocarray.document\\nDocument\\nq\\x00)\\x81q\\x01'\n",
      "                     b'}q\\x02X\\x05\\x00\\x00\\x00_dataq\\x03cdocarray.document.da'\n",
      "                     b'ta\\nDocumentData\\nq\\x04)\\x81q\\x05}q\\x06(X\\x0e'\n",
      "                     b'\\x00\\x00\\x00_reference_docq\\x07h\\x01X\\x02\\x00\\x00\\x00id'\n",
      "                     b'q\\x08X \\x00\\x00\\x00f85245169ae911eca563dc1ba1a7eaa4q'\n",
      "                     b'\\tX\\t\\x00\\x00\\x00parent_idq\\nNX\\x0b\\x00\\x00\\x00granulari'\n",
      "                     b'tyq\\x0bNX\\t\\x00\\x00\\x00adjacencyq\\x0cNX\\x04\\x00\\x00\\x00b'\n",
      "                     b'lobq\\rNX\\x06\\x00\\x00\\x00tensorq\\x0eNX\\t\\x00\\x00\\x00mim'\n",
      "                     b'e_typeq\\x0fX\\n\\x00\\x00\\x00text/plainq\\x10X\\x04\\x00'\n",
      "                     b'\\x00\\x00textq\\x11X\\x0c\\x00\\x00\\x00howdy planetq\\x12X'\n",
      "                     b'\\x07\\x00\\x00\\x00contentq\\x13NX\\x06\\x00\\x00\\x00weigh'\n",
      "                     b'tq\\x14NX\\x03\\x00\\x00\\x00uriq\\x15NX\\x04\\x00\\x00\\x00tags'\n",
      "                     b'q\\x16NX\\x06\\x00\\x00\\x00offsetq\\x17NX\\x08\\x00\\x00\\x00lo'\n",
      "                     b'cationq\\x18NX\\t\\x00\\x00\\x00embeddingq\\x19NX\\x08'\n",
      "                     b'\\x00\\x00\\x00modalityq\\x1aNX\\x0b\\x00\\x00\\x00evaluatio'\n",
      "                     b'nsq\\x1bNX\\x06\\x00\\x00\\x00scoresq\\x1cNX\\x06\\x00\\x00\\x00'\n",
      "                     b'chunksq\\x1dNX\\x07\\x00\\x00\\x00matchesq\\x1eNubsb.'}\n",
      "{'doc_id': 'f852502e9ae911eca563dc1ba1a7eaa4',\n",
      " 'item_order': 2,\n",
      " 'serialized_value': b'\\x80\\x03cdocarray.document\\nDocument\\nq\\x00)\\x81q\\x01'\n",
      "                     b'}q\\x02X\\x05\\x00\\x00\\x00_dataq\\x03cdocarray.document.da'\n",
      "                     b'ta\\nDocumentData\\nq\\x04)\\x81q\\x05}q\\x06(X\\x0e'\n",
      "                     b'\\x00\\x00\\x00_reference_docq\\x07h\\x01X\\x02\\x00\\x00\\x00id'\n",
      "                     b'q\\x08X \\x00\\x00\\x00f852502e9ae911eca563dc1ba1a7eaa4q'\n",
      "                     b'\\tX\\t\\x00\\x00\\x00parent_idq\\nNX\\x0b\\x00\\x00\\x00granulari'\n",
      "                     b'tyq\\x0bNX\\t\\x00\\x00\\x00adjacencyq\\x0cNX\\x04\\x00\\x00\\x00b'\n",
      "                     b'lobq\\rNX\\x06\\x00\\x00\\x00tensorq\\x0eNX\\t\\x00\\x00\\x00mim'\n",
      "                     b'e_typeq\\x0fX\\n\\x00\\x00\\x00text/plainq\\x10X\\x04\\x00'\n",
      "                     b'\\x00\\x00textq\\x11X\\t\\x00\\x00\\x00sup globeq\\x12'\n",
      "                     b'X\\x07\\x00\\x00\\x00contentq\\x13NX\\x06\\x00\\x00\\x00weig'\n",
      "                     b'htq\\x14NX\\x03\\x00\\x00\\x00uriq\\x15NX\\x04\\x00\\x00\\x00tag'\n",
      "                     b'sq\\x16NX\\x06\\x00\\x00\\x00offsetq\\x17NX\\x08\\x00\\x00\\x00l'\n",
      "                     b'ocationq\\x18NX\\t\\x00\\x00\\x00embeddingq\\x19NX'\n",
      "                     b'\\x08\\x00\\x00\\x00modalityq\\x1aNX\\x0b\\x00\\x00\\x00evaluati'\n",
      "                     b'onsq\\x1bNX\\x06\\x00\\x00\\x00scoresq\\x1cNX\\x06\\x00\\x00'\n",
      "                     b'\\x00chunksq\\x1dNX\\x07\\x00\\x00\\x00matchesq\\x1eNubsb.'}\n",
      "{'doc_id': '372691d49aea11eca563dc1ba1a7eaa4',\n",
      " 'item_order': 3,\n",
      " 'serialized_value': b'\\x80\\x03cdocarray.document\\nDocument\\nq\\x00)\\x81q\\x01'\n",
      "                     b'}q\\x02X\\x05\\x00\\x00\\x00_dataq\\x03cdocarray.document.da'\n",
      "                     b'ta\\nDocumentData\\nq\\x04)\\x81q\\x05}q\\x06(X\\x0e'\n",
      "                     b'\\x00\\x00\\x00_reference_docq\\x07h\\x01X\\x02\\x00\\x00\\x00id'\n",
      "                     b'q\\x08X \\x00\\x00\\x00372691d49aea11eca563dc1ba1a7eaa4q'\n",
      "                     b'\\tX\\t\\x00\\x00\\x00parent_idq\\nNX\\x0b\\x00\\x00\\x00granulari'\n",
      "                     b'tyq\\x0bNX\\t\\x00\\x00\\x00adjacencyq\\x0cNX\\x04\\x00\\x00\\x00b'\n",
      "                     b'lobq\\rNX\\x06\\x00\\x00\\x00tensorq\\x0eNX\\t\\x00\\x00\\x00mim'\n",
      "                     b'e_typeq\\x0fX\\n\\x00\\x00\\x00text/plainq\\x10X\\x04\\x00'\n",
      "                     b'\\x00\\x00textq\\x11X\\t\\x00\\x00\\x00sup globeq\\x12'\n",
      "                     b'X\\x07\\x00\\x00\\x00contentq\\x13NX\\x06\\x00\\x00\\x00weig'\n",
      "                     b'htq\\x14NX\\x03\\x00\\x00\\x00uriq\\x15NX\\x04\\x00\\x00\\x00tag'\n",
      "                     b'sq\\x16NX\\x06\\x00\\x00\\x00offsetq\\x17NX\\x08\\x00\\x00\\x00l'\n",
      "                     b'ocationq\\x18NX\\t\\x00\\x00\\x00embeddingq\\x19NX'\n",
      "                     b'\\x08\\x00\\x00\\x00modalityq\\x1aNX\\x0b\\x00\\x00\\x00evaluati'\n",
      "                     b'onsq\\x1bNX\\x06\\x00\\x00\\x00scoresq\\x1cNX\\x06\\x00\\x00'\n",
      "                     b'\\x00chunksq\\x1dNX\\x07\\x00\\x00\\x00matchesq\\x1eNubsb.'}\n"
     ]
    }
   ],
   "source": [
    "cursor.execute(f'SELECT * FROM {table_name}')\n",
    "\n",
    "for row in cursor.fetchall():\n",
    "     pprint(dict(row))"
   ]
  }
 ],
 "metadata": {
  "kernelspec": {
   "display_name": "Python 3",
   "language": "python",
   "name": "python3"
  },
  "language_info": {
   "codemirror_mode": {
    "name": "ipython",
    "version": 3
   },
   "file_extension": ".py",
   "mimetype": "text/x-python",
   "name": "python",
   "nbconvert_exporter": "python",
   "pygments_lexer": "ipython3",
   "version": "3.7.12"
  }
 },
 "nbformat": 4,
 "nbformat_minor": 5
}
