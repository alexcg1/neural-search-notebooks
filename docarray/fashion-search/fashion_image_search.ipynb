{
 "cells": [
  {
   "cell_type": "markdown",
   "id": "12d4ff3b-022c-492a-a0d5-65f11d05dcb4",
   "metadata": {},
   "source": [
    "# Fashion search with `docarray`\n",
    "\n",
    "Let's build a simple image-matching search engine for fashion product images from the [Fashion Product Images (small) dataset](https://www.kaggle.com/paramaggarwal/fashion-product-images-small).\n",
    "\n",
    "[DocArray](https://github.com/jina-ai/docarray) is a library for nested, unstructured data in transit, including text, image, audio, video, 3D mesh, etc. It allows deep-learning engineers to efficiently process, embed, search, recommend, store, and transfer the data with a Pythonic API."
   ]
  },
  {
   "cell_type": "code",
   "execution_count": null,
   "id": "b2ca05e5-9609-4c15-89bc-ef3616380a14",
   "metadata": {},
   "outputs": [],
   "source": [
    "!pip install \"docarray[full]\""
   ]
  },
  {
   "cell_type": "code",
   "execution_count": null,
   "id": "61a76be3-4607-4a2b-815b-75b2749e6384",
   "metadata": {},
   "outputs": [],
   "source": [
    "from docarray import Document, DocumentArray"
   ]
  },
  {
   "cell_type": "markdown",
   "id": "c58e62d3-7001-493b-a718-bd3de8a9ea13",
   "metadata": {},
   "source": [
    "## Load images"
   ]
  },
  {
   "cell_type": "code",
   "execution_count": null,
   "id": "23ef6423-04a8-459a-b2aa-e055c506bd5f",
   "metadata": {},
   "outputs": [],
   "source": [
    "import os\n",
    "if not os.path.isdir(\"./data\"):\n",
    "    !wget https://github.com/alexcg1/neural-search-notebooks/blob/main/docarray/fashion-search/data.zip?raw=true\n",
    "    !unzip data.zip\n",
    "    !rm -f data.zip"
   ]
  },
  {
   "cell_type": "code",
   "execution_count": null,
   "id": "281eb32b-a164-4c01-874d-845a09b7359b",
   "metadata": {
    "tags": []
   },
   "outputs": [],
   "source": [
    "docs = DocumentArray.from_files(\"./data/*.jpg\")"
   ]
  },
  {
   "cell_type": "code",
   "execution_count": null,
   "id": "4098e2ef-ad1b-4fec-918a-7b38f6fb202b",
   "metadata": {},
   "outputs": [],
   "source": [
    "docs.plot_image_sprites() # Preview the images"
   ]
  },
  {
   "cell_type": "markdown",
   "id": "8f3759fa-887b-43f9-be65-3748e4c0dfba",
   "metadata": {},
   "source": [
    "## Apply preprocessing"
   ]
  },
  {
   "cell_type": "code",
   "execution_count": null,
   "id": "6fa60b17-aa2e-4e04-9858-d09c0c9b6795",
   "metadata": {},
   "outputs": [],
   "source": [
    "from docarray import Document\n",
    "\n",
    "def preproc(d: Document):\n",
    "    return (d.load_uri_to_image_tensor()  # load\n",
    "             .set_image_tensor_shape((80, 60))  # resize all to 200x200\n",
    "             .set_image_tensor_normalization()  # normalize color \n",
    "             .set_image_tensor_channel_axis(-1, 0))  # switch color axis for the PyTorch model later"
   ]
  },
  {
   "cell_type": "code",
   "execution_count": null,
   "id": "ef697e23-5505-40ef-99ef-6dc7e99aed1c",
   "metadata": {},
   "outputs": [],
   "source": [
    "docs.apply(preproc)"
   ]
  },
  {
   "cell_type": "markdown",
   "id": "1414b203-1bf6-4057-a264-a8d88759b85f",
   "metadata": {},
   "source": [
    "## Embed images"
   ]
  },
  {
   "cell_type": "code",
   "execution_count": null,
   "id": "2bf166e8-a07e-42aa-8bbe-4ca746280af2",
   "metadata": {},
   "outputs": [],
   "source": [
    "!pip install torchvision"
   ]
  },
  {
   "cell_type": "code",
   "execution_count": null,
   "id": "8c928a0a-cd04-4699-8a3b-29e9416f0c75",
   "metadata": {},
   "outputs": [],
   "source": [
    "import torchvision\n",
    "model = torchvision.models.resnet50(pretrained=True)  # load ResNet50\n",
    "docs.embed(model, device='cpu')  # If running on non-gpu machine, change \"cuda\" to \"cpu\""
   ]
  },
  {
   "cell_type": "markdown",
   "id": "d1de6557-82e9-4309-a4eb-c69c768809d5",
   "metadata": {},
   "source": [
    "## Create query Document\n",
    "\n",
    "Let's just use the first image from our dataset:"
   ]
  },
  {
   "cell_type": "code",
   "execution_count": null,
   "id": "7a732acb-b3ea-4115-b2f9-3950912d7095",
   "metadata": {},
   "outputs": [],
   "source": [
    "query_doc = Document(uri=\"data/20000.jpg\")\n",
    "query_doc.display()"
   ]
  },
  {
   "cell_type": "code",
   "execution_count": null,
   "id": "779f8a99-599e-4cf7-9196-e808f4645f19",
   "metadata": {},
   "outputs": [],
   "source": [
    "query_docs = DocumentArray([query_doc])"
   ]
  },
  {
   "cell_type": "code",
   "execution_count": null,
   "id": "975ee56f-56b5-4ccf-b54d-829f2325bbd9",
   "metadata": {},
   "outputs": [],
   "source": [
    "query_docs.apply(preproc)"
   ]
  },
  {
   "cell_type": "code",
   "execution_count": null,
   "id": "84f11641-19e0-4baf-94b0-015bdfdb33c6",
   "metadata": {},
   "outputs": [],
   "source": [
    "query_docs.embed(model, device=\"cuda\") # If running on non-gpu machine, change \"cuda\" to \"cpu\""
   ]
  },
  {
   "cell_type": "markdown",
   "id": "d2a29921-b988-49f3-9384-21787655119b",
   "metadata": {},
   "source": [
    "## Get matches"
   ]
  },
  {
   "cell_type": "code",
   "execution_count": null,
   "id": "4f8f9826-21c5-4cd2-81a1-494c16289dec",
   "metadata": {},
   "outputs": [],
   "source": [
    "query_docs.match(docs, limit=9)"
   ]
  },
  {
   "cell_type": "markdown",
   "id": "ddb6f736-c1fc-46b8-96d3-fb017f1a2c7f",
   "metadata": {},
   "source": [
    "## See the results\n",
    "\n",
    "As you can see, the model is finding matches based on the input images - including the human wearing the clothes! In reality we want to match the clothes themselves, so later we'll fine-tune our model using Jina AI's [finetuner](https://finetuner.jina.ai)."
   ]
  },
  {
   "cell_type": "code",
   "execution_count": null,
   "id": "b20ff195-300b-42ac-a14b-88bd9034ef40",
   "metadata": {},
   "outputs": [],
   "source": [
    "(DocumentArray(query_doc.matches, copy=True)\n",
    "    .apply(lambda d: d.set_image_tensor_channel_axis(0, -1)\n",
    "                      .set_image_tensor_inv_normalization())\n",
    "    .plot_image_sprites())"
   ]
  },
  {
   "cell_type": "markdown",
   "id": "5b363ca8-e700-4a77-978d-a9a0ffb6ed97",
   "metadata": {},
   "source": [
    "### Next steps\n",
    "\n",
    "- [Finetune](https://finetuner.jina.ai) our model to improve matching\n",
    "- Build into a real-world search engine with [Jina](https://github.com/jina-ai/jina) (example [here](http://examples.jina.ai/fashion))"
   ]
  }
 ],
 "metadata": {
  "kernelspec": {
   "display_name": "Python 3",
   "language": "python",
   "name": "python3"
  },
  "language_info": {
   "codemirror_mode": {
    "name": "ipython",
    "version": 3
   },
   "file_extension": ".py",
   "mimetype": "text/x-python",
   "name": "python",
   "nbconvert_exporter": "python",
   "pygments_lexer": "ipython3",
   "version": "3.7.12"
  }
 },
 "nbformat": 4,
 "nbformat_minor": 5
}
