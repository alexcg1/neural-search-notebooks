{
 "cells": [
  {
   "cell_type": "markdown",
   "id": "12d4ff3b-022c-492a-a0d5-65f11d05dcb4",
   "metadata": {},
   "source": [
    "# Finetuning our model\n",
    "\n",
    "In the previous notebooks we: [built a simple fashion search engine using Docarray](https://colab.research.google.com/github/alexcg1/neural-search-notebooks/blob/main/docarray/fashion-search/fashion_image_search.ipynb)\n",
    "\n",
    "Now we'll finetune our model to deliver better results!\n",
    "\n",
    "## Important note\n",
    "\n",
    "This code won't run well in a notebook, since we need to run Finetuner on our local machine. Please:\n",
    "\n",
    "- Download this notebook as a Python file to your local machine (*File* > *Download* > *Download .py*)\n",
    "- Install finetuner in a virtual environment (`pip install finetuner`)\n",
    "- Run this script from that directory\n",
    "\n",
    "If you don't follow the above instructions the script will fail since it can't run the Finetuner GUI from within a notebook."
   ]
  },
  {
   "cell_type": "markdown",
   "id": "18b73db6-b90a-4df3-aa5e-a484d733f81b",
   "metadata": {},
   "source": [
    "## Configuration\n",
    "\n",
    "We'll set up some basic variables. Feel free to adapt these for your own project!"
   ]
  },
  {
   "cell_type": "code",
   "execution_count": 1,
   "id": "3c7c4c90-3fd6-406b-a0d5-fce2b09b720f",
   "metadata": {},
   "outputs": [],
   "source": [
    "DATA_DIR = \"./data\"\n",
    "DATA_PATH = f\"{DATA_DIR}/images/*.jpg\"\n",
    "MAX_DOCS = 1000\n",
    "QUERY_IMAGE = \"./query.jpg\" # image we'll use to search with\n",
    "PLOT_EMBEDDINGS = False # Really useful but have to manually stop it to progress to next cell\n",
    "\n",
    "# Toy data - If data dir doesn't exist, we'll get data of ~800 fashion images from here\n",
    "TOY_DATA_URL = \"https://github.com/alexcg1/neural-search-notebooks/blob/main/docarray/fashion-search/data.zip?raw=true\""
   ]
  },
  {
   "cell_type": "markdown",
   "id": "9505310b-afca-42fd-98ae-a6298d915498",
   "metadata": {},
   "source": [
    "## Setup"
   ]
  },
  {
   "cell_type": "code",
   "execution_count": 5,
   "id": "b2ca05e5-9609-4c15-89bc-ef3616380a14",
   "metadata": {},
   "outputs": [
    {
     "name": "stdout",
     "output_type": "stream",
     "text": [
      "Collecting finetuner\n",
      "  Using cached finetuner-0.3.0-py3-none-any.whl\n",
      "Requirement already satisfied: torchvision in /mnt/data/work/notebooks/docarray/env/lib/python3.7/site-packages (0.11.2)\n",
      "Requirement already satisfied: matplotlib in /mnt/data/work/notebooks/docarray/env/lib/python3.7/site-packages (from finetuner) (3.5.1)\n",
      "Collecting jina>=2.4.9\n",
      "  Using cached jina-2.6.4-py3-none-any.whl\n",
      "Requirement already satisfied: numpy in /mnt/data/work/notebooks/docarray/env/lib/python3.7/site-packages (from torchvision) (1.21.5)\n",
      "Requirement already satisfied: torch==1.10.1 in /mnt/data/work/notebooks/docarray/env/lib/python3.7/site-packages (from torchvision) (1.10.1)\n",
      "Requirement already satisfied: pillow!=8.3.0,>=5.3.0 in /mnt/data/work/notebooks/docarray/env/lib/python3.7/site-packages (from torchvision) (9.0.0)\n",
      "Requirement already satisfied: typing-extensions in /mnt/data/work/notebooks/docarray/env/lib/python3.7/site-packages (from torch==1.10.1->torchvision) (4.0.1)\n",
      "Requirement already satisfied: uvicorn[standard]>=0.14.0 in /mnt/data/work/notebooks/docarray/env/lib/python3.7/site-packages (from jina>=2.4.9->finetuner) (0.17.0)\n",
      "Requirement already satisfied: pyzmq>=17.1.0 in /mnt/data/work/notebooks/docarray/env/lib/python3.7/site-packages (from jina>=2.4.9->finetuner) (22.3.0)\n",
      "Requirement already satisfied: protobuf>=3.13.0 in /mnt/data/work/notebooks/docarray/env/lib/python3.7/site-packages (from jina>=2.4.9->finetuner) (3.19.3)\n",
      "Collecting filelock\n",
      "  Using cached filelock-3.4.2-py3-none-any.whl (9.9 kB)\n",
      "Collecting pathspec\n",
      "  Using cached pathspec-0.9.0-py2.py3-none-any.whl (31 kB)\n",
      "Collecting aiostream\n",
      "  Using cached aiostream-0.4.4-py3-none-any.whl\n",
      "Collecting cryptography\n",
      "  Using cached cryptography-36.0.1-cp36-abi3-manylinux_2_24_x86_64.whl (3.6 MB)\n",
      "Collecting kubernetes>=18.20.0\n",
      "  Using cached kubernetes-21.7.0-py2.py3-none-any.whl (1.8 MB)\n",
      "Requirement already satisfied: requests in /mnt/data/work/notebooks/docarray/env/lib/python3.7/site-packages (from jina>=2.4.9->finetuner) (2.27.1)\n",
      "Requirement already satisfied: rich in /mnt/data/work/notebooks/docarray/env/lib/python3.7/site-packages (from jina>=2.4.9->finetuner) (11.0.0)\n",
      "Collecting python-multipart\n",
      "  Using cached python_multipart-0.0.5-py3-none-any.whl\n",
      "Collecting websockets\n",
      "  Using cached websockets-10.1-cp37-cp37m-manylinux_2_5_x86_64.manylinux1_x86_64.manylinux_2_12_x86_64.manylinux2010_x86_64.whl (111 kB)\n",
      "Requirement already satisfied: pydantic in /mnt/data/work/notebooks/docarray/env/lib/python3.7/site-packages (from jina>=2.4.9->finetuner) (1.9.0)\n",
      "Collecting uvloop\n",
      "  Using cached uvloop-0.16.0-cp37-cp37m-manylinux_2_12_x86_64.manylinux2010_x86_64.whl (3.8 MB)\n",
      "Requirement already satisfied: tornado>=5.1.0 in /mnt/data/work/notebooks/docarray/env/lib/python3.7/site-packages (from jina>=2.4.9->finetuner) (6.1)\n",
      "Collecting lz4<3.1.2\n",
      "  Using cached lz4-3.1.1-cp37-cp37m-manylinux2010_x86_64.whl (1.8 MB)\n",
      "Collecting pyyaml>=5.3.1\n",
      "  Using cached PyYAML-6.0-cp37-cp37m-manylinux_2_5_x86_64.manylinux1_x86_64.manylinux_2_12_x86_64.manylinux2010_x86_64.whl (596 kB)\n",
      "Collecting aiofiles\n",
      "  Using cached aiofiles-0.8.0-py3-none-any.whl (13 kB)\n",
      "Requirement already satisfied: fastapi in /mnt/data/work/notebooks/docarray/env/lib/python3.7/site-packages (from jina>=2.4.9->finetuner) (0.72.0)\n",
      "Collecting aiohttp\n",
      "  Using cached aiohttp-3.8.1-cp37-cp37m-manylinux_2_5_x86_64.manylinux1_x86_64.manylinux_2_12_x86_64.manylinux2010_x86_64.whl (1.1 MB)\n",
      "Collecting grpcio>=1.33.1\n",
      "  Using cached grpcio-1.43.0-cp37-cp37m-manylinux_2_17_x86_64.manylinux2014_x86_64.whl (4.1 MB)\n",
      "Collecting docker\n",
      "  Using cached docker-5.0.3-py2.py3-none-any.whl (146 kB)\n",
      "Requirement already satisfied: kiwisolver>=1.0.1 in /mnt/data/work/notebooks/docarray/env/lib/python3.7/site-packages (from matplotlib->finetuner) (1.3.2)\n",
      "Requirement already satisfied: pyparsing>=2.2.1 in /mnt/data/work/notebooks/docarray/env/lib/python3.7/site-packages (from matplotlib->finetuner) (3.0.6)\n",
      "Requirement already satisfied: cycler>=0.10 in /mnt/data/work/notebooks/docarray/env/lib/python3.7/site-packages (from matplotlib->finetuner) (0.11.0)\n",
      "Requirement already satisfied: fonttools>=4.22.0 in /mnt/data/work/notebooks/docarray/env/lib/python3.7/site-packages (from matplotlib->finetuner) (4.28.5)\n",
      "Requirement already satisfied: python-dateutil>=2.7 in /mnt/data/work/notebooks/docarray/env/lib/python3.7/site-packages (from matplotlib->finetuner) (2.8.2)\n",
      "Requirement already satisfied: packaging>=20.0 in /mnt/data/work/notebooks/docarray/env/lib/python3.7/site-packages (from matplotlib->finetuner) (21.3)\n",
      "Requirement already satisfied: six>=1.5.2 in /mnt/data/work/notebooks/docarray/env/lib/python3.7/site-packages (from grpcio>=1.33.1->jina>=2.4.9->finetuner) (1.16.0)\n",
      "Requirement already satisfied: urllib3>=1.24.2 in /mnt/data/work/notebooks/docarray/env/lib/python3.7/site-packages (from kubernetes>=18.20.0->jina>=2.4.9->finetuner) (1.26.8)\n",
      "Requirement already satisfied: websocket-client!=0.40.0,!=0.41.*,!=0.42.*,>=0.32.0 in /mnt/data/work/notebooks/docarray/env/lib/python3.7/site-packages (from kubernetes>=18.20.0->jina>=2.4.9->finetuner) (1.2.3)\n",
      "Requirement already satisfied: certifi>=14.05.14 in /mnt/data/work/notebooks/docarray/env/lib/python3.7/site-packages (from kubernetes>=18.20.0->jina>=2.4.9->finetuner) (2021.10.8)\n",
      "Collecting google-auth>=1.0.1\n",
      "  Using cached google_auth-2.3.3-py2.py3-none-any.whl (155 kB)\n",
      "Collecting requests-oauthlib\n",
      "  Using cached requests_oauthlib-1.3.0-py2.py3-none-any.whl (23 kB)\n",
      "Requirement already satisfied: setuptools>=21.0.0 in /mnt/data/work/notebooks/docarray/env/lib/python3.7/site-packages (from kubernetes>=18.20.0->jina>=2.4.9->finetuner) (57.1.0)\n",
      "Requirement already satisfied: asgiref>=3.4.0 in /mnt/data/work/notebooks/docarray/env/lib/python3.7/site-packages (from uvicorn[standard]>=0.14.0->jina>=2.4.9->finetuner) (3.4.1)\n",
      "Requirement already satisfied: h11>=0.8 in /mnt/data/work/notebooks/docarray/env/lib/python3.7/site-packages (from uvicorn[standard]>=0.14.0->jina>=2.4.9->finetuner) (0.12.0)\n",
      "Requirement already satisfied: click>=7.0 in /mnt/data/work/notebooks/docarray/env/lib/python3.7/site-packages (from uvicorn[standard]>=0.14.0->jina>=2.4.9->finetuner) (8.0.3)\n",
      "Collecting watchgod>=0.6\n",
      "  Using cached watchgod-0.7-py3-none-any.whl (11 kB)\n",
      "Collecting python-dotenv>=0.13\n",
      "  Using cached python_dotenv-0.19.2-py2.py3-none-any.whl (17 kB)\n",
      "Collecting httptools<0.4.0,>=0.2.0\n",
      "  Using cached httptools-0.3.0-cp37-cp37m-manylinux_2_5_x86_64.manylinux1_x86_64.manylinux_2_12_x86_64.manylinux2010_x86_64.whl (402 kB)\n",
      "Collecting aiosignal>=1.1.2\n",
      "  Using cached aiosignal-1.2.0-py3-none-any.whl (8.2 kB)\n",
      "Collecting asynctest==0.13.0\n",
      "  Using cached asynctest-0.13.0-py3-none-any.whl (26 kB)\n",
      "Collecting yarl<2.0,>=1.0\n",
      "  Using cached yarl-1.7.2-cp37-cp37m-manylinux_2_5_x86_64.manylinux1_x86_64.manylinux_2_12_x86_64.manylinux2010_x86_64.whl (271 kB)\n",
      "Collecting multidict<7.0,>=4.5\n",
      "  Using cached multidict-6.0.1-cp37-cp37m-manylinux_2_17_x86_64.manylinux2014_x86_64.whl (94 kB)\n",
      "Collecting async-timeout<5.0,>=4.0.0a3\n",
      "  Using cached async_timeout-4.0.2-py3-none-any.whl (5.8 kB)\n",
      "Requirement already satisfied: charset-normalizer<3.0,>=2.0 in /mnt/data/work/notebooks/docarray/env/lib/python3.7/site-packages (from aiohttp->jina>=2.4.9->finetuner) (2.0.10)\n",
      "Collecting frozenlist>=1.1.1\n",
      "  Using cached frozenlist-1.3.0-cp37-cp37m-manylinux_2_5_x86_64.manylinux1_x86_64.manylinux_2_17_x86_64.manylinux2014_x86_64.whl (144 kB)\n",
      "Requirement already satisfied: attrs>=17.3.0 in /mnt/data/work/notebooks/docarray/env/lib/python3.7/site-packages (from aiohttp->jina>=2.4.9->finetuner) (21.4.0)\n",
      "Requirement already satisfied: cffi>=1.12 in /mnt/data/work/notebooks/docarray/env/lib/python3.7/site-packages (from cryptography->jina>=2.4.9->finetuner) (1.15.0)\n",
      "Requirement already satisfied: idna<4,>=2.5 in /mnt/data/work/notebooks/docarray/env/lib/python3.7/site-packages (from requests->jina>=2.4.9->finetuner) (3.3)\n",
      "Requirement already satisfied: starlette==0.17.1 in /mnt/data/work/notebooks/docarray/env/lib/python3.7/site-packages (from fastapi->jina>=2.4.9->finetuner) (0.17.1)\n",
      "Requirement already satisfied: anyio<4,>=3.0.0 in /mnt/data/work/notebooks/docarray/env/lib/python3.7/site-packages (from starlette==0.17.1->fastapi->jina>=2.4.9->finetuner) (3.5.0)\n",
      "Requirement already satisfied: colorama<0.5.0,>=0.4.0 in /mnt/data/work/notebooks/docarray/env/lib/python3.7/site-packages (from rich->jina>=2.4.9->finetuner) (0.4.4)\n",
      "Requirement already satisfied: commonmark<0.10.0,>=0.9.0 in /mnt/data/work/notebooks/docarray/env/lib/python3.7/site-packages (from rich->jina>=2.4.9->finetuner) (0.9.1)\n",
      "Requirement already satisfied: pygments<3.0.0,>=2.6.0 in /mnt/data/work/notebooks/docarray/env/lib/python3.7/site-packages (from rich->jina>=2.4.9->finetuner) (2.11.2)\n",
      "Requirement already satisfied: pycparser in /mnt/data/work/notebooks/docarray/env/lib/python3.7/site-packages (from cffi>=1.12->cryptography->jina>=2.4.9->finetuner) (2.21)\n",
      "Requirement already satisfied: importlib-metadata in /mnt/data/work/notebooks/docarray/env/lib/python3.7/site-packages (from click>=7.0->uvicorn[standard]>=0.14.0->jina>=2.4.9->finetuner) (4.10.1)\n",
      "Collecting pyasn1-modules>=0.2.1\n",
      "  Using cached pyasn1_modules-0.2.8-py2.py3-none-any.whl (155 kB)\n",
      "Collecting cachetools<5.0,>=2.0.0\n",
      "  Using cached cachetools-4.2.4-py3-none-any.whl (10 kB)\n",
      "Collecting rsa<5,>=3.1.4\n",
      "  Using cached rsa-4.8-py3-none-any.whl (39 kB)\n",
      "Collecting oauthlib>=3.0.0\n",
      "  Using cached oauthlib-3.1.1-py2.py3-none-any.whl (146 kB)\n",
      "Requirement already satisfied: sniffio>=1.1 in /mnt/data/work/notebooks/docarray/env/lib/python3.7/site-packages (from anyio<4,>=3.0.0->starlette==0.17.1->fastapi->jina>=2.4.9->finetuner) (1.2.0)\n",
      "Collecting pyasn1<0.5.0,>=0.4.6\n",
      "  Using cached pyasn1-0.4.8-py2.py3-none-any.whl (77 kB)\n",
      "Requirement already satisfied: zipp>=0.5 in /mnt/data/work/notebooks/docarray/env/lib/python3.7/site-packages (from importlib-metadata->click>=7.0->uvicorn[standard]>=0.14.0->jina>=2.4.9->finetuner) (3.7.0)\n",
      "Installing collected packages: pyasn1, rsa, pyasn1-modules, oauthlib, multidict, frozenlist, cachetools, yarl, websockets, watchgod, uvloop, requests-oauthlib, pyyaml, python-dotenv, httptools, google-auth, asynctest, async-timeout, aiosignal, python-multipart, pathspec, lz4, kubernetes, grpcio, filelock, docker, cryptography, aiostream, aiohttp, aiofiles, jina, finetuner\n",
      "  Attempting uninstall: lz4\n",
      "    Found existing installation: lz4 3.1.10\n",
      "    Uninstalling lz4-3.1.10:\n",
      "      Successfully uninstalled lz4-3.1.10\n",
      "Successfully installed aiofiles-0.8.0 aiohttp-3.8.1 aiosignal-1.2.0 aiostream-0.4.4 async-timeout-4.0.2 asynctest-0.13.0 cachetools-4.2.4 cryptography-36.0.1 docker-5.0.3 filelock-3.4.2 finetuner-0.3.0 frozenlist-1.3.0 google-auth-2.3.3 grpcio-1.43.0 httptools-0.3.0 jina-2.6.4 kubernetes-21.7.0 lz4-3.1.1 multidict-6.0.1 oauthlib-3.1.1 pathspec-0.9.0 pyasn1-0.4.8 pyasn1-modules-0.2.8 python-dotenv-0.19.2 python-multipart-0.0.5 pyyaml-6.0 requests-oauthlib-1.3.0 rsa-4.8 uvloop-0.16.0 watchgod-0.7 websockets-10.1 yarl-1.7.2\n",
      "Requirement already satisfied: docarray[full] in /mnt/data/work/notebooks/docarray/env/lib/python3.7/site-packages (0.4.0)\n",
      "Requirement already satisfied: numpy in /mnt/data/work/notebooks/docarray/env/lib/python3.7/site-packages (from docarray[full]) (1.21.5)\n",
      "Requirement already satisfied: rich in /mnt/data/work/notebooks/docarray/env/lib/python3.7/site-packages (from docarray[full]) (11.0.0)\n",
      "Requirement already satisfied: matplotlib in /mnt/data/work/notebooks/docarray/env/lib/python3.7/site-packages (from docarray[full]) (3.5.1)\n",
      "Requirement already satisfied: trimesh in /mnt/data/work/notebooks/docarray/env/lib/python3.7/site-packages (from docarray[full]) (3.9.42)\n",
      "Requirement already satisfied: requests in /mnt/data/work/notebooks/docarray/env/lib/python3.7/site-packages (from docarray[full]) (2.27.1)\n",
      "Requirement already satisfied: Pillow in /mnt/data/work/notebooks/docarray/env/lib/python3.7/site-packages (from docarray[full]) (9.0.0)\n",
      "Requirement already satisfied: scipy in /mnt/data/work/notebooks/docarray/env/lib/python3.7/site-packages (from docarray[full]) (1.7.3)\n",
      "Requirement already satisfied: av in /mnt/data/work/notebooks/docarray/env/lib/python3.7/site-packages (from docarray[full]) (8.1.0)\n",
      "Requirement already satisfied: uvicorn in /mnt/data/work/notebooks/docarray/env/lib/python3.7/site-packages (from docarray[full]) (0.17.0)\n",
      "Requirement already satisfied: lz4 in /mnt/data/work/notebooks/docarray/env/lib/python3.7/site-packages (from docarray[full]) (3.1.1)\n",
      "Requirement already satisfied: protobuf>=3.13.0 in /mnt/data/work/notebooks/docarray/env/lib/python3.7/site-packages (from docarray[full]) (3.19.3)\n",
      "Requirement already satisfied: fastapi in /mnt/data/work/notebooks/docarray/env/lib/python3.7/site-packages (from docarray[full]) (0.72.0)\n",
      "Requirement already satisfied: pydantic!=1.7,!=1.7.1,!=1.7.2,!=1.7.3,!=1.8,!=1.8.1,<2.0.0,>=1.6.2 in /mnt/data/work/notebooks/docarray/env/lib/python3.7/site-packages (from fastapi->docarray[full]) (1.9.0)\n",
      "Requirement already satisfied: starlette==0.17.1 in /mnt/data/work/notebooks/docarray/env/lib/python3.7/site-packages (from fastapi->docarray[full]) (0.17.1)\n",
      "Requirement already satisfied: typing-extensions in /mnt/data/work/notebooks/docarray/env/lib/python3.7/site-packages (from starlette==0.17.1->fastapi->docarray[full]) (4.0.1)\n",
      "Requirement already satisfied: anyio<4,>=3.0.0 in /mnt/data/work/notebooks/docarray/env/lib/python3.7/site-packages (from starlette==0.17.1->fastapi->docarray[full]) (3.5.0)\n",
      "Requirement already satisfied: pyparsing>=2.2.1 in /mnt/data/work/notebooks/docarray/env/lib/python3.7/site-packages (from matplotlib->docarray[full]) (3.0.6)\n",
      "Requirement already satisfied: packaging>=20.0 in /mnt/data/work/notebooks/docarray/env/lib/python3.7/site-packages (from matplotlib->docarray[full]) (21.3)\n",
      "Requirement already satisfied: kiwisolver>=1.0.1 in /mnt/data/work/notebooks/docarray/env/lib/python3.7/site-packages (from matplotlib->docarray[full]) (1.3.2)\n",
      "Requirement already satisfied: python-dateutil>=2.7 in /mnt/data/work/notebooks/docarray/env/lib/python3.7/site-packages (from matplotlib->docarray[full]) (2.8.2)\n",
      "Requirement already satisfied: fonttools>=4.22.0 in /mnt/data/work/notebooks/docarray/env/lib/python3.7/site-packages (from matplotlib->docarray[full]) (4.28.5)\n",
      "Requirement already satisfied: cycler>=0.10 in /mnt/data/work/notebooks/docarray/env/lib/python3.7/site-packages (from matplotlib->docarray[full]) (0.11.0)\n",
      "Requirement already satisfied: idna<4,>=2.5 in /mnt/data/work/notebooks/docarray/env/lib/python3.7/site-packages (from requests->docarray[full]) (3.3)\n",
      "Requirement already satisfied: certifi>=2017.4.17 in /mnt/data/work/notebooks/docarray/env/lib/python3.7/site-packages (from requests->docarray[full]) (2021.10.8)\n",
      "Requirement already satisfied: urllib3<1.27,>=1.21.1 in /mnt/data/work/notebooks/docarray/env/lib/python3.7/site-packages (from requests->docarray[full]) (1.26.8)\n",
      "Requirement already satisfied: charset-normalizer~=2.0.0 in /mnt/data/work/notebooks/docarray/env/lib/python3.7/site-packages (from requests->docarray[full]) (2.0.10)\n",
      "Requirement already satisfied: pygments<3.0.0,>=2.6.0 in /mnt/data/work/notebooks/docarray/env/lib/python3.7/site-packages (from rich->docarray[full]) (2.11.2)\n",
      "Requirement already satisfied: colorama<0.5.0,>=0.4.0 in /mnt/data/work/notebooks/docarray/env/lib/python3.7/site-packages (from rich->docarray[full]) (0.4.4)\n",
      "Requirement already satisfied: commonmark<0.10.0,>=0.9.0 in /mnt/data/work/notebooks/docarray/env/lib/python3.7/site-packages (from rich->docarray[full]) (0.9.1)\n",
      "Requirement already satisfied: setuptools in /mnt/data/work/notebooks/docarray/env/lib/python3.7/site-packages (from trimesh->docarray[full]) (57.1.0)\n",
      "Requirement already satisfied: click>=7.0 in /mnt/data/work/notebooks/docarray/env/lib/python3.7/site-packages (from uvicorn->docarray[full]) (8.0.3)\n",
      "Requirement already satisfied: h11>=0.8 in /mnt/data/work/notebooks/docarray/env/lib/python3.7/site-packages (from uvicorn->docarray[full]) (0.12.0)\n",
      "Requirement already satisfied: asgiref>=3.4.0 in /mnt/data/work/notebooks/docarray/env/lib/python3.7/site-packages (from uvicorn->docarray[full]) (3.4.1)\n",
      "Requirement already satisfied: importlib-metadata in /mnt/data/work/notebooks/docarray/env/lib/python3.7/site-packages (from click>=7.0->uvicorn->docarray[full]) (4.10.1)\n",
      "Requirement already satisfied: six>=1.5 in /mnt/data/work/notebooks/docarray/env/lib/python3.7/site-packages (from python-dateutil>=2.7->matplotlib->docarray[full]) (1.16.0)\n",
      "Requirement already satisfied: sniffio>=1.1 in /mnt/data/work/notebooks/docarray/env/lib/python3.7/site-packages (from anyio<4,>=3.0.0->starlette==0.17.1->fastapi->docarray[full]) (1.2.0)\n",
      "Requirement already satisfied: zipp>=0.5 in /mnt/data/work/notebooks/docarray/env/lib/python3.7/site-packages (from importlib-metadata->click>=7.0->uvicorn->docarray[full]) (3.7.0)\n"
     ]
    }
   ],
   "source": [
    "# We use \"[full]\" because we want to deal with more complex data like images (as opposed to text)\n",
    "!pip install finetuner torchvision"
   ]
  },
  {
   "cell_type": "code",
   "execution_count": 6,
   "id": "61a76be3-4607-4a2b-815b-75b2749e6384",
   "metadata": {},
   "outputs": [],
   "source": [
    "from docarray import Document, DocumentArray"
   ]
  },
  {
   "cell_type": "markdown",
   "id": "c58e62d3-7001-493b-a718-bd3de8a9ea13",
   "metadata": {},
   "source": [
    "## Load images"
   ]
  },
  {
   "cell_type": "code",
   "execution_count": 7,
   "id": "486c94fc-9af1-40b2-be7a-17091c3077c0",
   "metadata": {},
   "outputs": [
    {
     "name": "stdout",
     "output_type": "stream",
     "text": [
      "Nothing to download. Using ./data for data\n"
     ]
    }
   ],
   "source": [
    "# Download images if they don't exist\n",
    "import os\n",
    "\n",
    "if not os.path.isdir(DATA_DIR) and not os.path.islink(DATA_DIR):\n",
    "    print(f\"Can't find {DATA_DIR}. Downloading toy dataset\")\n",
    "    !wget \"$TOY_DATA_URL\" -O data.zip\n",
    "    !unzip -q data.zip # Don't print out every darn filename\n",
    "    !rm -f data.zip\n",
    "else:\n",
    "    print(f\"Nothing to download. Using {DATA_DIR} for data\")"
   ]
  },
  {
   "cell_type": "code",
   "execution_count": 8,
   "id": "281eb32b-a164-4c01-874d-845a09b7359b",
   "metadata": {
    "tags": []
   },
   "outputs": [
    {
     "ename": "TypeError",
     "evalue": "from_files() got an unexpected keyword argument 'to_datauri'",
     "output_type": "error",
     "traceback": [
      "\u001b[0;31m---------------------------------------------------------------------------\u001b[0m",
      "\u001b[0;31mTypeError\u001b[0m                                 Traceback (most recent call last)",
      "\u001b[0;32m/tmp/ipykernel_1443787/1377515637.py\u001b[0m in \u001b[0;36m<module>\u001b[0;34m\u001b[0m\n\u001b[1;32m      1\u001b[0m \u001b[0;31m# Use `.from_files` to quickly load them into a `DocumentArray`\u001b[0m\u001b[0;34m\u001b[0m\u001b[0;34m\u001b[0m\u001b[0;34m\u001b[0m\u001b[0m\n\u001b[0;32m----> 2\u001b[0;31m \u001b[0mdocs\u001b[0m \u001b[0;34m=\u001b[0m \u001b[0mDocumentArray\u001b[0m\u001b[0;34m.\u001b[0m\u001b[0mfrom_files\u001b[0m\u001b[0;34m(\u001b[0m\u001b[0mDATA_PATH\u001b[0m\u001b[0;34m,\u001b[0m \u001b[0msize\u001b[0m\u001b[0;34m=\u001b[0m\u001b[0mMAX_DOCS\u001b[0m\u001b[0;34m,\u001b[0m \u001b[0mto_datauri\u001b[0m\u001b[0;34m=\u001b[0m\u001b[0;32mTrue\u001b[0m\u001b[0;34m)\u001b[0m\u001b[0;34m\u001b[0m\u001b[0;34m\u001b[0m\u001b[0m\n\u001b[0m\u001b[1;32m      3\u001b[0m \u001b[0mprint\u001b[0m\u001b[0;34m(\u001b[0m\u001b[0;34mf\"{len(docs)} Documents in DocumentArray\"\u001b[0m\u001b[0;34m)\u001b[0m\u001b[0;34m\u001b[0m\u001b[0;34m\u001b[0m\u001b[0m\n",
      "\u001b[0;32m/mnt/data/work/notebooks/docarray/env/lib/python3.7/site-packages/docarray/array/mixins/io/from_gen.py\u001b[0m in \u001b[0;36mfrom_files\u001b[0;34m(cls, *args, **kwargs)\u001b[0m\n\u001b[1;32m     88\u001b[0m         \u001b[0;31m# noqa: DAR201\u001b[0m\u001b[0;34m\u001b[0m\u001b[0;34m\u001b[0m\u001b[0;34m\u001b[0m\u001b[0m\n\u001b[1;32m     89\u001b[0m         \"\"\"\n\u001b[0;32m---> 90\u001b[0;31m         \u001b[0;32mreturn\u001b[0m \u001b[0mcls\u001b[0m\u001b[0;34m.\u001b[0m\u001b[0m_from_generator\u001b[0m\u001b[0;34m(\u001b[0m\u001b[0;34m'from_files'\u001b[0m\u001b[0;34m,\u001b[0m \u001b[0;34m*\u001b[0m\u001b[0margs\u001b[0m\u001b[0;34m,\u001b[0m \u001b[0;34m**\u001b[0m\u001b[0mkwargs\u001b[0m\u001b[0;34m)\u001b[0m\u001b[0;34m\u001b[0m\u001b[0;34m\u001b[0m\u001b[0m\n\u001b[0m\u001b[1;32m     91\u001b[0m \u001b[0;34m\u001b[0m\u001b[0m\n\u001b[1;32m     92\u001b[0m     \u001b[0;34m@\u001b[0m\u001b[0mclassmethod\u001b[0m\u001b[0;34m\u001b[0m\u001b[0;34m\u001b[0m\u001b[0m\n",
      "\u001b[0;32m/mnt/data/work/notebooks/docarray/env/lib/python3.7/site-packages/docarray/array/mixins/io/from_gen.py\u001b[0m in \u001b[0;36m_from_generator\u001b[0;34m(cls, meth, *args, **kwargs)\u001b[0m\n\u001b[1;32m     26\u001b[0m         \u001b[0mfrom_fn\u001b[0m \u001b[0;34m=\u001b[0m \u001b[0mgetattr\u001b[0m\u001b[0;34m(\u001b[0m\u001b[0mgenerators\u001b[0m\u001b[0;34m,\u001b[0m \u001b[0mmeth\u001b[0m\u001b[0;34m)\u001b[0m\u001b[0;34m\u001b[0m\u001b[0;34m\u001b[0m\u001b[0m\n\u001b[1;32m     27\u001b[0m         \u001b[0mda_like\u001b[0m \u001b[0;34m=\u001b[0m \u001b[0mcls\u001b[0m\u001b[0;34m(\u001b[0m\u001b[0;34m)\u001b[0m\u001b[0;34m\u001b[0m\u001b[0;34m\u001b[0m\u001b[0m\n\u001b[0;32m---> 28\u001b[0;31m         \u001b[0mda_like\u001b[0m\u001b[0;34m.\u001b[0m\u001b[0mextend\u001b[0m\u001b[0;34m(\u001b[0m\u001b[0mfrom_fn\u001b[0m\u001b[0;34m(\u001b[0m\u001b[0;34m*\u001b[0m\u001b[0margs\u001b[0m\u001b[0;34m,\u001b[0m \u001b[0;34m**\u001b[0m\u001b[0mkwargs\u001b[0m\u001b[0;34m)\u001b[0m\u001b[0;34m)\u001b[0m\u001b[0;34m\u001b[0m\u001b[0;34m\u001b[0m\u001b[0m\n\u001b[0m\u001b[1;32m     29\u001b[0m         \u001b[0;32mreturn\u001b[0m \u001b[0mda_like\u001b[0m\u001b[0;34m\u001b[0m\u001b[0;34m\u001b[0m\u001b[0m\n\u001b[1;32m     30\u001b[0m \u001b[0;34m\u001b[0m\u001b[0m\n",
      "\u001b[0;31mTypeError\u001b[0m: from_files() got an unexpected keyword argument 'to_datauri'"
     ]
    }
   ],
   "source": [
    "# Use `.from_files` to quickly load them into a `DocumentArray`\n",
    "docs = DocumentArray.from_files(DATA_PATH, size=MAX_DOCS, to_datauri=True)\n",
    "print(f\"{len(docs)} Documents in DocumentArray\")"
   ]
  },
  {
   "cell_type": "code",
   "execution_count": null,
   "id": "4aa2b05c-9173-4326-8bc8-306363223053",
   "metadata": {},
   "outputs": [],
   "source": [
    "for doc in docs:\n",
    "    doc.load_uri_to_image_blob(\n",
    "        height=80, width=60\n",
    "    ).set_image_blob_normalization().set_image_blob_channel_axis(-1, 0)"
   ]
  },
  {
   "cell_type": "code",
   "execution_count": null,
   "id": "4098e2ef-ad1b-4fec-918a-7b38f6fb202b",
   "metadata": {},
   "outputs": [],
   "source": [
    "docs.plot_image_sprites() # Preview the images"
   ]
  },
  {
   "cell_type": "markdown",
   "id": "7ca2c73f-850a-4a27-b1c5-dae65a5e14fe",
   "metadata": {},
   "source": [
    "## Load model"
   ]
  },
  {
   "cell_type": "code",
   "execution_count": null,
   "id": "4bc4d290-12ce-4c49-80c1-d11f3fbb305a",
   "metadata": {},
   "outputs": [],
   "source": [
    "import torchvision\n",
    "\n",
    "model = torchvision.models.resnet50(pretrained=True)"
   ]
  },
  {
   "cell_type": "markdown",
   "id": "67a11896-e618-4a57-9f82-b48c4c433964",
   "metadata": {},
   "source": [
    "## Finetune model\n",
    "\n",
    "⚠️ **Warning**: As stated previously, **this part won't run in a notebook**. Please check the introduction for instructions."
   ]
  },
  {
   "cell_type": "code",
   "execution_count": null,
   "id": "1a5ac4a2-5ee9-4693-86b5-627340aa2571",
   "metadata": {},
   "outputs": [],
   "source": [
    "finetuner.fit(\n",
    "    model,\n",
    "    train_data=docs,\n",
    "    interactive=True,\n",
    "    to_embedding_model=True,\n",
    "    freeze=False,\n",
    "    input_size=(3, 80, 60),\n",
    ")"
   ]
  }
 ],
 "metadata": {
  "kernelspec": {
   "display_name": "Python 3",
   "language": "python",
   "name": "python3"
  },
  "language_info": {
   "codemirror_mode": {
    "name": "ipython",
    "version": 3
   },
   "file_extension": ".py",
   "mimetype": "text/x-python",
   "name": "python",
   "nbconvert_exporter": "python",
   "pygments_lexer": "ipython3",
   "version": "3.7.12"
  }
 },
 "nbformat": 4,
 "nbformat_minor": 5
}
